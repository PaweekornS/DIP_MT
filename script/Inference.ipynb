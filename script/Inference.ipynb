{
 "cells": [
  {
   "cell_type": "code",
   "execution_count": 1,
   "id": "5c2774d8-77d9-4b92-9b39-b7e945eb8e74",
   "metadata": {},
   "outputs": [
    {
     "name": "stdout",
     "output_type": "stream",
     "text": [
      "INFO 08-26 05:59:37 [__init__.py:241] Automatically detected platform cuda.\n"
     ]
    }
   ],
   "source": [
    "from vllm import LLM, SamplingParams\n",
    "from jiwer import wer, cer\n",
    "\n",
    "import pandas as pd\n",
    "from tqdm import tqdm\n",
    "\n",
    "import json\n",
    "import re\n",
    "import os"
   ]
  },
  {
   "cell_type": "markdown",
   "id": "e6d554f4-4af8-4619-aad1-dbf3c50952b5",
   "metadata": {},
   "source": [
    "## Data Prep"
   ]
  },
  {
   "cell_type": "code",
   "execution_count": 2,
   "id": "0b662c0e-8098-4de4-9545-5772df1a497c",
   "metadata": {
    "scrolled": true
   },
   "outputs": [
    {
     "data": {
      "text/html": [
       "<div>\n",
       "<style scoped>\n",
       "    .dataframe tbody tr th:only-of-type {\n",
       "        vertical-align: middle;\n",
       "    }\n",
       "\n",
       "    .dataframe tbody tr th {\n",
       "        vertical-align: top;\n",
       "    }\n",
       "\n",
       "    .dataframe thead th {\n",
       "        text-align: right;\n",
       "    }\n",
       "</style>\n",
       "<table border=\"1\" class=\"dataframe\">\n",
       "  <thead>\n",
       "    <tr style=\"text-align: right;\">\n",
       "      <th></th>\n",
       "      <th>NAME</th>\n",
       "      <th>ENG</th>\n",
       "      <th>THA</th>\n",
       "      <th>WIPO</th>\n",
       "    </tr>\n",
       "    <tr>\n",
       "      <th>ID</th>\n",
       "      <th></th>\n",
       "      <th></th>\n",
       "      <th></th>\n",
       "      <th></th>\n",
       "    </tr>\n",
       "  </thead>\n",
       "  <tbody>\n",
       "    <tr>\n",
       "      <th>1</th>\n",
       "      <td>9</td>\n",
       "      <td>sockets, plugs and other contacts (electric co...</td>\n",
       "      <td>เต้ารับ ปลั๊กและตัวติดต่อ (ตัวเชื่อมต่อไฟฟ้า)</td>\n",
       "      <td>Scientific, research, navigation, surveying, p...</td>\n",
       "    </tr>\n",
       "    <tr>\n",
       "      <th>2</th>\n",
       "      <td>9</td>\n",
       "      <td>material for electricity mains (wires, cables)</td>\n",
       "      <td>วัสดุสำหรับส่วนควบคุมไฟฟ้าหลัก (ลวด สายเคเบิล)</td>\n",
       "      <td>Scientific, research, navigation, surveying, p...</td>\n",
       "    </tr>\n",
       "    <tr>\n",
       "      <th>3</th>\n",
       "      <td>9</td>\n",
       "      <td>electrical instrument element and electrical i...</td>\n",
       "      <td>ส่วนประกอบอุปกรณ์ไฟฟ้าและวัสดุที่เฉพาะกับอุปกร...</td>\n",
       "      <td>Scientific, research, navigation, surveying, p...</td>\n",
       "    </tr>\n",
       "    <tr>\n",
       "      <th>4</th>\n",
       "      <td>12</td>\n",
       "      <td>parts and accessories for automobiles, in part...</td>\n",
       "      <td>ชิ้นส่วนและอุปกรณ์เสริมสำหรับยานยนต์ โดยเฉพาะอ...</td>\n",
       "      <td>Vehicles; apparatus for locomotion by land, ai...</td>\n",
       "    </tr>\n",
       "    <tr>\n",
       "      <th>5</th>\n",
       "      <td>42</td>\n",
       "      <td>industrial analysis and research services.</td>\n",
       "      <td>บริการวิเคราะห์และวิจัยทางอุตสาหกรรม</td>\n",
       "      <td>Scientific and technological services and rese...</td>\n",
       "    </tr>\n",
       "  </tbody>\n",
       "</table>\n",
       "</div>"
      ],
      "text/plain": [
       "    NAME                                                ENG  \\\n",
       "ID                                                            \n",
       "1      9  sockets, plugs and other contacts (electric co...   \n",
       "2      9     material for electricity mains (wires, cables)   \n",
       "3      9  electrical instrument element and electrical i...   \n",
       "4     12  parts and accessories for automobiles, in part...   \n",
       "5     42         industrial analysis and research services.   \n",
       "\n",
       "                                                  THA  \\\n",
       "ID                                                      \n",
       "1       เต้ารับ ปลั๊กและตัวติดต่อ (ตัวเชื่อมต่อไฟฟ้า)   \n",
       "2      วัสดุสำหรับส่วนควบคุมไฟฟ้าหลัก (ลวด สายเคเบิล)   \n",
       "3   ส่วนประกอบอุปกรณ์ไฟฟ้าและวัสดุที่เฉพาะกับอุปกร...   \n",
       "4   ชิ้นส่วนและอุปกรณ์เสริมสำหรับยานยนต์ โดยเฉพาะอ...   \n",
       "5                บริการวิเคราะห์และวิจัยทางอุตสาหกรรม   \n",
       "\n",
       "                                                 WIPO  \n",
       "ID                                                     \n",
       "1   Scientific, research, navigation, surveying, p...  \n",
       "2   Scientific, research, navigation, surveying, p...  \n",
       "3   Scientific, research, navigation, surveying, p...  \n",
       "4   Vehicles; apparatus for locomotion by land, ai...  \n",
       "5   Scientific and technological services and rese...  "
      ]
     },
     "execution_count": 2,
     "metadata": {},
     "output_type": "execute_result"
    }
   ],
   "source": [
    "test_df = pd.read_excel('/project/lt200304-dipmt/paweekorn/data/test_set.xlsx', index_col='ID')\n",
    "\n",
    "with open('/project/lt200304-dipmt/paweekorn/data/WIPO.json', 'r') as f:\n",
    "    wipo_data = json.load(f)\n",
    "\n",
    "wipo_data = {int(k): v for k, v in wipo_data.items()}\n",
    "test_df['WIPO'] = test_df['NAME'].map(wipo_data)\n",
    "test_df.head()"
   ]
  },
  {
   "cell_type": "code",
   "execution_count": 3,
   "id": "d7420306-3259-483c-83eb-993841ddcd76",
   "metadata": {
    "scrolled": true
   },
   "outputs": [
    {
     "name": "stderr",
     "output_type": "stream",
     "text": [
      "8392it [00:00, 29900.80it/s]"
     ]
    },
    {
     "name": "stdout",
     "output_type": "stream",
     "text": [
      "## Instructions:\n",
      "You are an expert in the classification of goods and services under the WIPO Nice Classification system. Your task is to translate product names from English to accurate and direct Thai.\n",
      "\n",
      "## Translation Guidelines:\n",
      "- Maintain the original format of the input text.\n",
      "- Use Thai legal and commercial terminology appropriate for trademarks and product classification.\n",
      "- Do not include explanations, commentary, or any information beyond the translation output.\n",
      "- Answer in Thai language only.\n",
      "\n",
      "## Product Domain:\n",
      "Scientific, research, navigation, surveying, photographic, cinematographic, audiovisual, optical, weighing, measuring, signalling, detecting, testing, inspecting, life-saving and teaching apparatus and instruments; apparatus and instruments for conducting, switching, transforming, accumulating, regulating or controlling the distribution or use of electricity; apparatus and instruments for recording, transmitting, reproducing or processing sound, images or data; recorded and downloadable media, computer software, blank digital or analogue recording and storage media; mechanisms for coin-operated apparatus; cash registers, calculating devices; computers and computer peripheral devices; diving suits, divers' masks, ear plugs for divers, nose clips for divers and swimmers, gloves for divers, breathing apparatus for underwater swimming; fire-extinguishing apparatus.\n",
      "\n",
      "## Example:\n",
      "Input: material for electricity mains (wires, cables)\n",
      "Output: วัสดุสำหรับส่วนควบคุมไฟฟ้าหลัก (ลวด สายเคเบิล)\n",
      "\n",
      "## Source Text:\n",
      "sockets, plugs and other contacts (electric connections)\n",
      "\n"
     ]
    },
    {
     "name": "stderr",
     "output_type": "stream",
     "text": [
      "\n"
     ]
    }
   ],
   "source": [
    "instruction = \"\"\"## Instructions:\n",
    "You are an expert in the classification of goods and services under the WIPO Nice Classification system. Your task is to translate product names from English to accurate and direct Thai.\n",
    "\n",
    "## Translation Guidelines:\n",
    "- Maintain the original format of the input text.\n",
    "- Use Thai legal and commercial terminology appropriate for trademarks and product classification.\n",
    "- Do not include explanations, commentary, or any information beyond the translation output.\n",
    "- Answer in Thai language only.\n",
    "\n",
    "## Product Domain:\n",
    "{}\n",
    "\n",
    "## Example:\n",
    "Input: material for electricity mains (wires, cables)\n",
    "Output: วัสดุสำหรับส่วนควบคุมไฟฟ้าหลัก (ลวด สายเคเบิล)\n",
    "\n",
    "## Source Text:\n",
    "{}\n",
    "\"\"\"\n",
    "\n",
    "def formatting_prompt(df):\n",
    "    batch = []\n",
    "    for _, row in tqdm(df.iterrows()):\n",
    "        src, dest = row['ENG'], row['THA']\n",
    "        prompt = instruction.format(row['WIPO'], src) \n",
    "        batch.append(prompt)\n",
    "\n",
    "    return batch\n",
    "\n",
    "test_set = formatting_prompt(test_df)\n",
    "print(test_set[0])"
   ]
  },
  {
   "cell_type": "markdown",
   "id": "076f0e07-8378-43fd-bcd8-f4825bc07919",
   "metadata": {},
   "source": [
    "## Inference Time!"
   ]
  },
  {
   "cell_type": "code",
   "execution_count": 6,
   "id": "06dd0c7d-781d-4667-bb65-e291d7c3e8a2",
   "metadata": {
    "scrolled": true
   },
   "outputs": [
    {
     "name": "stdout",
     "output_type": "stream",
     "text": [
      "INFO 08-26 06:00:19 [utils.py:326] non-default args: {'model': '/project/lt200304-dipmt/paweekorn/models/fine-tuned/typhoon-translate-4b', 'max_model_len': 1024, 'enable_prefix_caching': True, 'disable_log_stats': True, 'enforce_eager': True}\n",
      "INFO 08-26 06:00:26 [__init__.py:711] Resolved architecture: Gemma3ForCausalLM\n",
      "INFO 08-26 06:00:26 [__init__.py:1750] Using max model len 1024\n",
      "INFO 08-26 06:00:29 [scheduler.py:222] Chunked prefill is enabled with max_num_batched_tokens=8192.\n",
      "INFO 08-26 06:00:29 [__init__.py:3565] Cudagraph is disabled under eager mode\n",
      "\u001b[1;36m(EngineCore_0 pid=1390942)\u001b[0;0m INFO 08-26 06:00:30 [core.py:636] Waiting for init message from front-end.\n",
      "\u001b[1;36m(EngineCore_0 pid=1390942)\u001b[0;0m INFO 08-26 06:00:30 [core.py:74] Initializing a V1 LLM engine (v0.10.1.1) with config: model='/project/lt200304-dipmt/paweekorn/models/fine-tuned/typhoon-translate-4b', speculative_config=None, tokenizer='/project/lt200304-dipmt/paweekorn/models/fine-tuned/typhoon-translate-4b', skip_tokenizer_init=False, tokenizer_mode=auto, revision=None, override_neuron_config={}, tokenizer_revision=None, trust_remote_code=False, dtype=torch.bfloat16, max_seq_len=1024, download_dir=None, load_format=auto, tensor_parallel_size=1, pipeline_parallel_size=1, disable_custom_all_reduce=False, quantization=None, enforce_eager=True, kv_cache_dtype=auto, device_config=cuda, decoding_config=DecodingConfig(backend='auto', disable_fallback=False, disable_any_whitespace=False, disable_additional_properties=False, reasoning_backend=''), observability_config=ObservabilityConfig(show_hidden_metrics_for_version=None, otlp_traces_endpoint=None, collect_detailed_traces=None), seed=0, served_model_name=/project/lt200304-dipmt/paweekorn/models/fine-tuned/typhoon-translate-4b, enable_prefix_caching=True, chunked_prefill_enabled=True, use_async_output_proc=True, pooler_config=None, compilation_config={\"level\":0,\"debug_dump_path\":\"\",\"cache_dir\":\"\",\"backend\":\"\",\"custom_ops\":[],\"splitting_ops\":null,\"use_inductor\":true,\"compile_sizes\":[],\"inductor_compile_config\":{\"enable_auto_functionalized_v2\":false},\"inductor_passes\":{},\"cudagraph_mode\":0,\"use_cudagraph\":true,\"cudagraph_num_of_warmups\":0,\"cudagraph_capture_sizes\":[],\"cudagraph_copy_inputs\":false,\"full_cuda_graph\":false,\"pass_config\":{},\"max_capture_size\":0,\"local_cache_dir\":null}\n",
      "\u001b[1;36m(EngineCore_0 pid=1390942)\u001b[0;0m INFO 08-26 06:00:33 [parallel_state.py:1134] rank 0 in world size 1 is assigned as DP rank 0, PP rank 0, TP rank 0, EP rank 0\n",
      "\u001b[1;36m(EngineCore_0 pid=1390942)\u001b[0;0m WARNING 08-26 06:00:33 [topk_topp_sampler.py:61] FlashInfer is not available. Falling back to the PyTorch-native implementation of top-p & top-k sampling. For the best performance, please install FlashInfer.\n",
      "\u001b[1;36m(EngineCore_0 pid=1390942)\u001b[0;0m INFO 08-26 06:00:33 [gpu_model_runner.py:1953] Starting to load model /project/lt200304-dipmt/paweekorn/models/fine-tuned/typhoon-translate-4b...\n",
      "\u001b[1;36m(EngineCore_0 pid=1390942)\u001b[0;0m INFO 08-26 06:00:33 [gpu_model_runner.py:1985] Loading model from scratch...\n",
      "\u001b[1;36m(EngineCore_0 pid=1390942)\u001b[0;0m INFO 08-26 06:00:33 [cuda.py:328] Using Flash Attention backend on V1 engine.\n"
     ]
    },
    {
     "data": {
      "application/vnd.jupyter.widget-view+json": {
       "model_id": "9345f5d3e65649f08130632780a5df51",
       "version_major": 2,
       "version_minor": 0
      },
      "text/plain": [
       "Loading safetensors checkpoint shards:   0% Completed | 0/2 [00:00<?, ?it/s]\n"
      ]
     },
     "metadata": {},
     "output_type": "display_data"
    },
    {
     "name": "stdout",
     "output_type": "stream",
     "text": [
      "\u001b[1;36m(EngineCore_0 pid=1390942)\u001b[0;0m INFO 08-26 06:00:37 [default_loader.py:262] Loading weights took 4.18 seconds\n",
      "\u001b[1;36m(EngineCore_0 pid=1390942)\u001b[0;0m INFO 08-26 06:00:38 [gpu_model_runner.py:2007] Model loading took 7.7902 GiB and 4.323328 seconds\n",
      "\u001b[1;36m(EngineCore_0 pid=1390942)\u001b[0;0m INFO 08-26 06:00:41 [gpu_worker.py:276] Available KV cache memory: 25.31 GiB\n",
      "\u001b[1;36m(EngineCore_0 pid=1390942)\u001b[0;0m WARNING 08-26 06:00:41 [kv_cache_utils.py:971] Add 1 padding layers, may waste at most 3.45% KV cache memory\n",
      "\u001b[1;36m(EngineCore_0 pid=1390942)\u001b[0;0m INFO 08-26 06:00:41 [kv_cache_utils.py:1013] GPU KV cache size: 189,584 tokens\n",
      "\u001b[1;36m(EngineCore_0 pid=1390942)\u001b[0;0m INFO 08-26 06:00:41 [kv_cache_utils.py:1017] Maximum concurrency for 1,024 tokens per request: 182.70x\n",
      "\u001b[1;36m(EngineCore_0 pid=1390942)\u001b[0;0m INFO 08-26 06:00:41 [core.py:214] init engine (profile, create kv cache, warmup model) took 3.48 seconds\n",
      "\u001b[1;36m(EngineCore_0 pid=1390942)\u001b[0;0m INFO 08-26 06:00:43 [__init__.py:3565] Cudagraph is disabled under eager mode\n",
      "INFO 08-26 06:00:43 [llm.py:298] Supported_tasks: ['generate']\n",
      "\u001b[1;36m(EngineCore_0 pid=1390942)\u001b[0;0m WARNING 08-26 06:00:43 [cudagraph_dispatcher.py:101] cudagraph dispatching keys are not initialized. No cudagraph will be used.\n"
     ]
    }
   ],
   "source": [
    "root_dir = '/project/lt200304-dipmt/paweekorn'\n",
    "model_id = \"typhoon-translate-4b\"\n",
    "\n",
    "model = LLM(\n",
    "    model=f\"{root_dir}/models/fine-tuned/{model_id}\",\n",
    "    quantization=None,\n",
    "    max_model_len=1024,\n",
    "    tensor_parallel_size=1,\n",
    "    enable_prefix_caching=True,\n",
    "    gpu_memory_utilization=0.9,\n",
    "    enforce_eager=True,\n",
    "    )"
   ]
  },
  {
   "cell_type": "code",
   "execution_count": 7,
   "id": "703e180e-6e28-45ce-9f1f-ed31c28b953d",
   "metadata": {
    "scrolled": true
   },
   "outputs": [
    {
     "data": {
      "application/vnd.jupyter.widget-view+json": {
       "model_id": "5a57e175c4ea4180964548de74e0f894",
       "version_major": 2,
       "version_minor": 0
      },
      "text/plain": [
       "Adding requests:   0%|          | 0/8392 [00:00<?, ?it/s]"
      ]
     },
     "metadata": {},
     "output_type": "display_data"
    },
    {
     "data": {
      "application/vnd.jupyter.widget-view+json": {
       "model_id": "204bc7dda62740a98c6ca45607acbd3b",
       "version_major": 2,
       "version_minor": 0
      },
      "text/plain": [
       "Processed prompts:   0%|          | 0/8392 [00:00<?, ?it/s, est. speed input: 0.00 toks/s, output: 0.00 toks/s…"
      ]
     },
     "metadata": {},
     "output_type": "display_data"
    },
    {
     "data": {
      "text/plain": [
       "'Plug connectors'"
      ]
     },
     "execution_count": 7,
     "metadata": {},
     "output_type": "execute_result"
    }
   ],
   "source": [
    "decoding_params = SamplingParams(temperature=0.2,\n",
    "                                 max_tokens=512,\n",
    "                                 skip_special_tokens=True,\n",
    "                                 repetition_penalty=1.15)\n",
    "\n",
    "results = model.generate(test_set, decoding_params)\n",
    "results[0].outputs[0].text"
   ]
  },
  {
   "cell_type": "markdown",
   "id": "b3d0192a-c099-4668-a1d9-e890d6ae09e4",
   "metadata": {},
   "source": [
    "## Evaluation"
   ]
  },
  {
   "cell_type": "code",
   "execution_count": 8,
   "id": "091fe856-0d72-481f-940f-3bcc6e8b2757",
   "metadata": {
    "scrolled": true
   },
   "outputs": [
    {
     "data": {
      "text/html": [
       "<div>\n",
       "<style scoped>\n",
       "    .dataframe tbody tr th:only-of-type {\n",
       "        vertical-align: middle;\n",
       "    }\n",
       "\n",
       "    .dataframe tbody tr th {\n",
       "        vertical-align: top;\n",
       "    }\n",
       "\n",
       "    .dataframe thead th {\n",
       "        text-align: right;\n",
       "    }\n",
       "</style>\n",
       "<table border=\"1\" class=\"dataframe\">\n",
       "  <thead>\n",
       "    <tr style=\"text-align: right;\">\n",
       "      <th></th>\n",
       "      <th>NAME</th>\n",
       "      <th>ENG</th>\n",
       "      <th>THA</th>\n",
       "      <th>WIPO</th>\n",
       "      <th>PRED</th>\n",
       "      <th>PRED_cleaned</th>\n",
       "    </tr>\n",
       "    <tr>\n",
       "      <th>ID</th>\n",
       "      <th></th>\n",
       "      <th></th>\n",
       "      <th></th>\n",
       "      <th></th>\n",
       "      <th></th>\n",
       "      <th></th>\n",
       "    </tr>\n",
       "  </thead>\n",
       "  <tbody>\n",
       "    <tr>\n",
       "      <th>1</th>\n",
       "      <td>9</td>\n",
       "      <td>sockets, plugs and other contacts (electric co...</td>\n",
       "      <td>เต้ารับ ปลั๊กและตัวติดต่อ (ตัวเชื่อมต่อไฟฟ้า)</td>\n",
       "      <td>Scientific, research, navigation, surveying, p...</td>\n",
       "      <td>Plug connectors</td>\n",
       "      <td></td>\n",
       "    </tr>\n",
       "    <tr>\n",
       "      <th>2</th>\n",
       "      <td>9</td>\n",
       "      <td>material for electricity mains (wires, cables)</td>\n",
       "      <td>วัสดุสำหรับส่วนควบคุมไฟฟ้าหลัก (ลวด สายเคเบิล)</td>\n",
       "      <td>Scientific, research, navigation, surveying, p...</td>\n",
       "      <td>computer programs</td>\n",
       "      <td></td>\n",
       "    </tr>\n",
       "    <tr>\n",
       "      <th>3</th>\n",
       "      <td>9</td>\n",
       "      <td>electrical instrument element and electrical i...</td>\n",
       "      <td>ส่วนประกอบอุปกรณ์ไฟฟ้าและวัสดุที่เฉพาะกับอุปกร...</td>\n",
       "      <td>Scientific, research, navigation, surveying, p...</td>\n",
       "      <td>and components</td>\n",
       "      <td></td>\n",
       "    </tr>\n",
       "    <tr>\n",
       "      <th>4</th>\n",
       "      <td>12</td>\n",
       "      <td>parts and accessories for automobiles, in part...</td>\n",
       "      <td>ชิ้นส่วนและอุปกรณ์เสริมสำหรับยานยนต์ โดยเฉพาะอ...</td>\n",
       "      <td>Vehicles; apparatus for locomotion by land, ai...</td>\n",
       "      <td>and parts thereof</td>\n",
       "      <td></td>\n",
       "    </tr>\n",
       "    <tr>\n",
       "      <th>5</th>\n",
       "      <td>42</td>\n",
       "      <td>industrial analysis and research services.</td>\n",
       "      <td>บริการวิเคราะห์และวิจัยทางอุตสาหกรรม</td>\n",
       "      <td>Scientific and technological services and rese...</td>\n",
       "      <td>material testing</td>\n",
       "      <td></td>\n",
       "    </tr>\n",
       "  </tbody>\n",
       "</table>\n",
       "</div>"
      ],
      "text/plain": [
       "    NAME                                                ENG  \\\n",
       "ID                                                            \n",
       "1      9  sockets, plugs and other contacts (electric co...   \n",
       "2      9     material for electricity mains (wires, cables)   \n",
       "3      9  electrical instrument element and electrical i...   \n",
       "4     12  parts and accessories for automobiles, in part...   \n",
       "5     42         industrial analysis and research services.   \n",
       "\n",
       "                                                  THA  \\\n",
       "ID                                                      \n",
       "1       เต้ารับ ปลั๊กและตัวติดต่อ (ตัวเชื่อมต่อไฟฟ้า)   \n",
       "2      วัสดุสำหรับส่วนควบคุมไฟฟ้าหลัก (ลวด สายเคเบิล)   \n",
       "3   ส่วนประกอบอุปกรณ์ไฟฟ้าและวัสดุที่เฉพาะกับอุปกร...   \n",
       "4   ชิ้นส่วนและอุปกรณ์เสริมสำหรับยานยนต์ โดยเฉพาะอ...   \n",
       "5                บริการวิเคราะห์และวิจัยทางอุตสาหกรรม   \n",
       "\n",
       "                                                 WIPO               PRED  \\\n",
       "ID                                                                         \n",
       "1   Scientific, research, navigation, surveying, p...    Plug connectors   \n",
       "2   Scientific, research, navigation, surveying, p...  computer programs   \n",
       "3   Scientific, research, navigation, surveying, p...     and components   \n",
       "4   Vehicles; apparatus for locomotion by land, ai...  and parts thereof   \n",
       "5   Scientific and technological services and rese...   material testing   \n",
       "\n",
       "   PRED_cleaned  \n",
       "ID               \n",
       "1                \n",
       "2                \n",
       "3                \n",
       "4                \n",
       "5                "
      ]
     },
     "execution_count": 8,
     "metadata": {},
     "output_type": "execute_result"
    }
   ],
   "source": [
    "def clean_thai_text(text):\n",
    "    # Remove HTML tags\n",
    "    clean = re.compile('<.*?->')\n",
    "    text = re.sub(clean, '', text)\n",
    "    # Filter for Thai characters and common punctuation/spaces\n",
    "    filtered = \"\".join(re.findall(r'[\\u0E00-\\u0E7F\\s\\.,\\/!?;\\'\"()\\[\\]]', text))\n",
    "    \n",
    "    if \"[COT]\" in filtered:\n",
    "        filtered = filtered[:filtered.index(\"[COT]\")]\n",
    "\n",
    "    return filtered.replace('\\n', \"\")\n",
    "\n",
    "response = [r.outputs[0].text for r in results]\n",
    "test_df['PRED'] = response\n",
    "test_df['PRED_cleaned'] = test_df['PRED'].apply(clean_thai_text)\n",
    "test_df.head()"
   ]
  },
  {
   "cell_type": "code",
   "execution_count": 7,
   "id": "3b4e6709-b11e-419b-a075-ad124da41c5c",
   "metadata": {},
   "outputs": [],
   "source": [
    "fname = f\"{model_id}_{model_type}\"\n",
    "test_df[['THA', 'PRED', 'PRED_cleaned']].to_csv(f\"{root_dir}/results/{fname}.csv\", index=False)"
   ]
  },
  {
   "cell_type": "code",
   "execution_count": null,
   "id": "0f2b4fbf-a450-43df-982e-354ddd810a16",
   "metadata": {},
   "outputs": [],
   "source": []
  }
 ],
 "metadata": {
  "kernelspec": {
   "display_name": "Python 3 (ipykernel)",
   "language": "python",
   "name": "python3"
  },
  "language_info": {
   "codemirror_mode": {
    "name": "ipython",
    "version": 3
   },
   "file_extension": ".py",
   "mimetype": "text/x-python",
   "name": "python",
   "nbconvert_exporter": "python",
   "pygments_lexer": "ipython3",
   "version": "3.12.11"
  }
 },
 "nbformat": 4,
 "nbformat_minor": 5
}
